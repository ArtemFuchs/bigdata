{
 "cells": [
  {
   "cell_type": "code",
   "execution_count": 1,
   "metadata": {},
   "outputs": [],
   "source": [
    "import pandas as pd"
   ]
  },
  {
   "cell_type": "code",
   "execution_count": 5,
   "metadata": {},
   "outputs": [],
   "source": [
    "sales = pd.read_csv('sales.csv')"
   ]
  },
  {
   "cell_type": "code",
   "execution_count": 6,
   "metadata": {},
   "outputs": [
    {
     "data": {
      "text/html": [
       "<div>\n",
       "<style scoped>\n",
       "    .dataframe tbody tr th:only-of-type {\n",
       "        vertical-align: middle;\n",
       "    }\n",
       "\n",
       "    .dataframe tbody tr th {\n",
       "        vertical-align: top;\n",
       "    }\n",
       "\n",
       "    .dataframe thead th {\n",
       "        text-align: right;\n",
       "    }\n",
       "</style>\n",
       "<table border=\"1\" class=\"dataframe\">\n",
       "  <thead>\n",
       "    <tr style=\"text-align: right;\">\n",
       "      <th></th>\n",
       "      <th>Покупатель</th>\n",
       "      <th>Сумма</th>\n",
       "      <th>Название фильма</th>\n",
       "      <th>Дата платежа</th>\n",
       "      <th>Магазин</th>\n",
       "    </tr>\n",
       "  </thead>\n",
       "  <tbody>\n",
       "    <tr>\n",
       "      <th>0</th>\n",
       "      <td>Peter Menard</td>\n",
       "      <td>7.99</td>\n",
       "      <td>Rules Human</td>\n",
       "      <td>2007-02-15 22:25:46</td>\n",
       "      <td>Магазин 1</td>\n",
       "    </tr>\n",
       "    <tr>\n",
       "      <th>1</th>\n",
       "      <td>Peter Menard</td>\n",
       "      <td>1.99</td>\n",
       "      <td>Majestic Floats</td>\n",
       "      <td>2007-02-16 17:23:14</td>\n",
       "      <td>Магазин 2</td>\n",
       "    </tr>\n",
       "    <tr>\n",
       "      <th>2</th>\n",
       "      <td>Peter Menard</td>\n",
       "      <td>7.99</td>\n",
       "      <td>Maiden Home</td>\n",
       "      <td>2007-02-16 22:41:45</td>\n",
       "      <td>Магазин 1</td>\n",
       "    </tr>\n",
       "    <tr>\n",
       "      <th>3</th>\n",
       "      <td>Peter Menard</td>\n",
       "      <td>2.99</td>\n",
       "      <td>Hyde Doctor</td>\n",
       "      <td>2007-02-19 19:39:56</td>\n",
       "      <td>Магазин 1</td>\n",
       "    </tr>\n",
       "    <tr>\n",
       "      <th>4</th>\n",
       "      <td>Peter Menard</td>\n",
       "      <td>7.99</td>\n",
       "      <td>Massacre Usual</td>\n",
       "      <td>2007-02-20 17:31:48</td>\n",
       "      <td>Магазин 1</td>\n",
       "    </tr>\n",
       "  </tbody>\n",
       "</table>\n",
       "</div>"
      ],
      "text/plain": [
       "     Покупатель  Сумма  Название фильма         Дата платежа    Магазин\n",
       "0  Peter Menard   7.99      Rules Human  2007-02-15 22:25:46  Магазин 1\n",
       "1  Peter Menard   1.99  Majestic Floats  2007-02-16 17:23:14  Магазин 2\n",
       "2  Peter Menard   7.99      Maiden Home  2007-02-16 22:41:45  Магазин 1\n",
       "3  Peter Menard   2.99      Hyde Doctor  2007-02-19 19:39:56  Магазин 1\n",
       "4  Peter Menard   7.99   Massacre Usual  2007-02-20 17:31:48  Магазин 1"
      ]
     },
     "execution_count": 6,
     "metadata": {},
     "output_type": "execute_result"
    }
   ],
   "source": [
    "sales.head()"
   ]
  }
 ],
 "metadata": {
  "kernelspec": {
   "display_name": "Python 3",
   "language": "python",
   "name": "python3"
  },
  "language_info": {
   "codemirror_mode": {
    "name": "ipython",
    "version": 3
   },
   "file_extension": ".py",
   "mimetype": "text/x-python",
   "name": "python",
   "nbconvert_exporter": "python",
   "pygments_lexer": "ipython3",
   "version": "3.7.1"
  }
 },
 "nbformat": 4,
 "nbformat_minor": 2
}
